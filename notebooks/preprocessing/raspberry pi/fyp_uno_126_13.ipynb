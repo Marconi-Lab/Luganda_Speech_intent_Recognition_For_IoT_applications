{
  "nbformat": 4,
  "nbformat_minor": 0,
  "metadata": {
    "colab": {
      "provenance": []
    },
    "kernelspec": {
      "name": "python3",
      "display_name": "Python 3"
    },
    "language_info": {
      "name": "python"
    }
  },
  "cells": [
    {
      "cell_type": "code",
      "source": [
        "from google.colab import drive\n",
        "drive.mount(\"/content/drive\")"
      ],
      "metadata": {
        "colab": {
          "base_uri": "https://localhost:8080/"
        },
        "id": "Yey7A8X96C8b",
        "outputId": "712d49b0-2868-4ced-cfd2-d5a4aefe47aa"
      },
      "execution_count": null,
      "outputs": [
        {
          "output_type": "stream",
          "name": "stdout",
          "text": [
            "Mounted at /content/drive\n"
          ]
        }
      ]
    },
    {
      "cell_type": "code",
      "source": [
        "import pickle\n",
        "import librosa\n",
        "import pandas as pd\n",
        "import numpy as np\n",
        "import IPython.display as ipd\n",
        "import os\n",
        "from tqdm import tqdm\n",
        "from sklearn.preprocessing import LabelEncoder\n",
        "from sklearn.model_selection import train_test_split\n",
        "\n",
        "le = LabelEncoder()\n",
        "\n",
        "import warnings\n",
        "warnings.filterwarnings(\"ignore\")"
      ],
      "metadata": {
        "id": "Cd2jezbn4qBb"
      },
      "execution_count": null,
      "outputs": []
    },
    {
      "cell_type": "code",
      "source": [
        "ls"
      ],
      "metadata": {
        "colab": {
          "base_uri": "https://localhost:8080/"
        },
        "id": "U7tP8kMU42iV",
        "outputId": "0f98c657-49ae-4fe3-c3a3-a71d92384361"
      },
      "execution_count": null,
      "outputs": [
        {
          "output_type": "stream",
          "name": "stdout",
          "text": [
            "\u001b[0m\u001b[01;34mdrive\u001b[0m/  \u001b[01;34msample_data\u001b[0m/\n"
          ]
        }
      ]
    },
    {
      "cell_type": "code",
      "source": [
        "os.getcwd()"
      ],
      "metadata": {
        "colab": {
          "base_uri": "https://localhost:8080/",
          "height": 35
        },
        "id": "Xlr1qVa04-Bc",
        "outputId": "4ee79334-4c97-4992-98fe-3e03e34a79be"
      },
      "execution_count": null,
      "outputs": [
        {
          "output_type": "execute_result",
          "data": {
            "text/plain": [
              "'/content'"
            ],
            "application/vnd.google.colaboratory.intrinsic+json": {
              "type": "string"
            }
          },
          "metadata": {},
          "execution_count": 4
        }
      ]
    },
    {
      "cell_type": "code",
      "source": [
        "ls /content/drive/MyDrive"
      ],
      "metadata": {
        "id": "Z0oJtiW_5L4v"
      },
      "execution_count": null,
      "outputs": []
    },
    {
      "cell_type": "code",
      "source": [
        "# os.path.exists(\"/content/drive/MyDrive/dataset.zip\")"
      ],
      "metadata": {
        "id": "25cwISjp5VTh"
      },
      "execution_count": null,
      "outputs": []
    },
    {
      "cell_type": "code",
      "execution_count": null,
      "metadata": {
        "id": "wx0s9F724Ta0"
      },
      "outputs": [],
      "source": [
        "# !unzip /content/drive/MyDrive/dataset.zip -d '/content/drive/MyDrive'"
      ]
    },
    {
      "cell_type": "code",
      "source": [
        "os.path.exists(\"/content/drive/MyDrive/final\")"
      ],
      "metadata": {
        "colab": {
          "base_uri": "https://localhost:8080/"
        },
        "id": "FCAb6BVw6DHM",
        "outputId": "cc89592b-b497-4215-c9e3-f262e4831676"
      },
      "execution_count": null,
      "outputs": [
        {
          "output_type": "execute_result",
          "data": {
            "text/plain": [
              "True"
            ]
          },
          "metadata": {},
          "execution_count": 8
        }
      ]
    },
    {
      "cell_type": "code",
      "source": [
        "os.chdir(\"/content/drive/MyDrive/final\")"
      ],
      "metadata": {
        "id": "QiyF_qtm8V_D"
      },
      "execution_count": null,
      "outputs": []
    },
    {
      "cell_type": "code",
      "source": [
        "ls"
      ],
      "metadata": {
        "colab": {
          "base_uri": "https://localhost:8080/"
        },
        "id": "LlDQI5Px8bfr",
        "outputId": "23c9df80-62e7-41b0-d136-7d862d14e48f"
      },
      "execution_count": null,
      "outputs": [
        {
          "output_type": "stream",
          "name": "stdout",
          "text": [
            "data1.pkl  data_spec_128.pkl  lug_aug_flat.tflite  model.png  \u001b[0m\u001b[01;34mtrain\u001b[0m/\n",
            "data.pkl   data_spec.pkl      lug.tflite           \u001b[01;34mtest\u001b[0m/\n"
          ]
        }
      ]
    },
    {
      "cell_type": "code",
      "source": [
        "len(os.listdir(\"train\")),len(os.listdir(\"test\"))"
      ],
      "metadata": {
        "colab": {
          "base_uri": "https://localhost:8080/"
        },
        "id": "miYiQ02p8eOi",
        "outputId": "52696058-b03a-4e90-a81c-682443dd12b7"
      },
      "execution_count": null,
      "outputs": [
        {
          "output_type": "execute_result",
          "data": {
            "text/plain": [
              "(20, 20)"
            ]
          },
          "metadata": {},
          "execution_count": 11
        }
      ]
    },
    {
      "cell_type": "markdown",
      "source": [
        "# extract file names and labels"
      ],
      "metadata": {
        "id": "V9PoCZWd9iTS"
      }
    },
    {
      "cell_type": "code",
      "source": [
        "train_files = []\n",
        "train_labels= []\n",
        "for i in tqdm(os.listdir(\"train\")):\n",
        "#     print(i)\n",
        "    for x in os.listdir(os.path.join(\"train\",i)):\n",
        "        x = os.path.join(\"train\",i,x)\n",
        "        label = i\n",
        "        train_files.append(x)\n",
        "        train_labels.append(label)\n",
        "\n",
        "# Splitting the data into training and validation sets\n",
        "train_files, val_files, train_labels, val_labels = train_test_split(train_files, train_labels, test_size=0.11, random_state=42)\n",
        "len(train_files),len(val_files)"
      ],
      "metadata": {
        "colab": {
          "base_uri": "https://localhost:8080/"
        },
        "id": "6fZg48U88kma",
        "outputId": "4ab6060e-db65-4597-a934-8ffd6889684a"
      },
      "execution_count": null,
      "outputs": [
        {
          "output_type": "stream",
          "name": "stderr",
          "text": [
            "100%|██████████| 20/20 [00:13<00:00,  1.49it/s]\n"
          ]
        },
        {
          "output_type": "execute_result",
          "data": {
            "text/plain": [
              "(8127, 1005)"
            ]
          },
          "metadata": {},
          "execution_count": 12
        }
      ]
    },
    {
      "cell_type": "code",
      "source": [
        "test_files = []\n",
        "test_labels= []\n",
        "for i in tqdm(os.listdir(\"test\")):\n",
        "#     print(i)\n",
        "    for x in os.listdir(os.path.join(\"test\",i)):\n",
        "        x = os.path.join(\"test\",i,x)\n",
        "        label = i\n",
        "        test_files.append(x)\n",
        "        test_labels.append(label)"
      ],
      "metadata": {
        "colab": {
          "base_uri": "https://localhost:8080/"
        },
        "id": "bOlgYJAS8q3_",
        "outputId": "033dc620-a2ea-4761-992f-171ab9cdafde"
      },
      "execution_count": null,
      "outputs": [
        {
          "output_type": "stream",
          "name": "stderr",
          "text": [
            "100%|██████████| 20/20 [00:02<00:00,  8.09it/s]\n"
          ]
        }
      ]
    },
    {
      "cell_type": "code",
      "source": [
        "len(test_files),len(train_files),len(val_files)"
      ],
      "metadata": {
        "colab": {
          "base_uri": "https://localhost:8080/"
        },
        "id": "BX0zVGnw8wtH",
        "outputId": "132a18c8-ef50-477a-8d0a-f0b9392ee748"
      },
      "execution_count": null,
      "outputs": [
        {
          "output_type": "execute_result",
          "data": {
            "text/plain": [
              "(711, 8127, 1005)"
            ]
          },
          "metadata": {},
          "execution_count": 14
        }
      ]
    },
    {
      "cell_type": "markdown",
      "source": [
        "# extract features"
      ],
      "metadata": {
        "id": "9ghteI2I9oxY"
      }
    },
    {
      "cell_type": "code",
      "source": [
        "def add_white_noise(signal, noise_percentage_factor):\n",
        "    noise = np.random.normal(0, signal.std(), signal.size)\n",
        "    augmented_signal = signal + noise * noise_percentage_factor\n",
        "    return augmented_signal\n",
        "\n",
        "\n",
        "def time_stretch(signal, time_stretch_rate):\n",
        "    \"\"\"Time stretching implemented with librosa:\n",
        "    https://librosa.org/doc/main/generated/librosa.effects.pitch_shift.html?highlight=pitch%20shift#librosa.effects.pitch_shift\n",
        "    \"\"\"\n",
        "    return librosa.effects.time_stretch(signal, time_stretch_rate)\n",
        "\n",
        "\n",
        "def pitch_scale(signal, sr, num_semitones):\n",
        "    \"\"\"Pitch scaling implemented with librosa:\n",
        "    https://librosa.org/doc/main/generated/librosa.effects.pitch_shift.html?highlight=pitch%20shift#librosa.effects.pitch_shift\n",
        "    \"\"\"\n",
        "    return librosa.effects.pitch_shift(signal, sr = sr, n_steps = num_semitones)\n",
        "\n",
        "\n",
        "def random_gain(signal, min_factor=0.1, max_factor=0.12):\n",
        "    gain_rate = random.uniform(min_factor, max_factor)\n",
        "    augmented_signal = signal * gain_rate\n",
        "    return augmented_signal\n",
        "\n",
        "\n",
        "def invert_polarity(signal):\n",
        "    return signal * -1"
      ],
      "metadata": {
        "id": "cqvAZJ8L82YC"
      },
      "execution_count": null,
      "outputs": []
    },
    {
      "cell_type": "code",
      "source": [
        "def extract_mfccs(signal,sr):\n",
        "#     audio, sr = librosa.load(path, sr=16000)\n",
        "#     print(\"loading ..........\")\n",
        "#     signal = librosa.util.fix_length(audio, size=sr*4)\n",
        "#     print(\"resizing.............\")\n",
        "    mfcc_features = librosa.feature.mfcc(y=signal, sr = sr, n_mfcc=13, n_fft=2048, fmin = 100,hop_length=512)\n",
        "    mfc = mfcc_features.T\n",
        "    mfc = np.expand_dims(mfc, axis=-1)\n",
        "    return mfc\n",
        "\n",
        "def load(path):\n",
        "    audio, sr = librosa.load(path, sr=16000)\n",
        "    signal = librosa.util.fix_length(audio, size=sr*4)\n",
        "    return signal,sr\n",
        "\n",
        "def augment(signal):\n",
        "    a = add_white_noise(signal,0.2)\n",
        "    b = pitch_scale(signal,sr=16000,num_semitones=2)\n",
        "    return signal,a,b"
      ],
      "metadata": {
        "id": "onY-ZxFr87xo"
      },
      "execution_count": null,
      "outputs": []
    },
    {
      "cell_type": "code",
      "source": [
        "c = []\n",
        "path = test_files[4]\n",
        "lab = []\n",
        "signal,sr = load(path)\n",
        "x = augment(signal)\n",
        "for a in x:\n",
        "    c.append(extract_mfccs(a,sr))\n",
        "    lab.append(test_labels[2])\n",
        "c = np.array(c)\n",
        "c.shape, lab"
      ],
      "metadata": {
        "colab": {
          "base_uri": "https://localhost:8080/"
        },
        "id": "_-8IHXsD9Atf",
        "outputId": "fdf23dc3-99e0-4cd1-c9eb-0a8f973a8185"
      },
      "execution_count": null,
      "outputs": [
        {
          "output_type": "execute_result",
          "data": {
            "text/plain": [
              "((3, 126, 13, 1), ['door close', 'door close', 'door close'])"
            ]
          },
          "metadata": {},
          "execution_count": 11
        }
      ]
    },
    {
      "cell_type": "code",
      "source": [
        "%%time\n",
        "X_test = []\n",
        "for x in tqdm(test_files):\n",
        "    signal,sr = load(x)\n",
        "    mfc = extract_mfccs(signal,sr)\n",
        "    X_test.append(mfc)\n",
        "Xtest = np.array(X_test)\n",
        "ytest = le.fit_transform(test_labels)\n",
        "\n",
        "Xtest.shape,ytest.shape, ytest[:67]"
      ],
      "metadata": {
        "colab": {
          "base_uri": "https://localhost:8080/"
        },
        "id": "w01rCiPo9IPT",
        "outputId": "1028e725-caea-466e-9855-f5ecbf204e7b"
      },
      "execution_count": null,
      "outputs": [
        {
          "output_type": "stream",
          "name": "stderr",
          "text": [
            "100%|██████████| 711/711 [06:41<00:00,  1.77it/s]"
          ]
        },
        {
          "output_type": "stream",
          "name": "stdout",
          "text": [
            "CPU times: user 25.6 s, sys: 1min 9s, total: 1min 35s\n",
            "Wall time: 6min 41s\n"
          ]
        },
        {
          "output_type": "stream",
          "name": "stderr",
          "text": [
            "\n"
          ]
        },
        {
          "output_type": "execute_result",
          "data": {
            "text/plain": [
              "((711, 126, 13, 1),\n",
              " (711,),\n",
              " array([4, 4, 4, 4, 4, 4, 4, 4, 4, 4, 4, 4, 4, 4, 4, 4, 4, 4, 4, 4, 4, 4,\n",
              "        4, 4, 4, 4, 4, 4, 4, 4, 4, 4, 4, 4, 5, 5, 5, 5, 5, 5, 5, 5, 5, 5,\n",
              "        5, 5, 5, 5, 5, 5, 5, 5, 5, 5, 5, 5, 5, 5, 5, 5, 7, 7, 7, 7, 7, 7,\n",
              "        7]))"
            ]
          },
          "metadata": {},
          "execution_count": 18
        }
      ]
    },
    {
      "cell_type": "code",
      "source": [
        "%%time\n",
        "X_val = []\n",
        "for x in tqdm(val_files):\n",
        "    signal,sr = load(x)\n",
        "    mfc = extract_mfccs(signal,sr)\n",
        "    X_val.append(mfc)\n",
        "Xval = np.array(X_val)\n",
        "Xval.shape"
      ],
      "metadata": {
        "colab": {
          "base_uri": "https://localhost:8080/"
        },
        "id": "QRP3KiMw9SWS",
        "outputId": "ceddef40-c533-4fb5-f16b-1ad3dbc061ee"
      },
      "execution_count": null,
      "outputs": [
        {
          "output_type": "stream",
          "name": "stderr",
          "text": [
            "100%|██████████| 1005/1005 [09:08<00:00,  1.83it/s]"
          ]
        },
        {
          "output_type": "stream",
          "name": "stdout",
          "text": [
            "CPU times: user 35.7 s, sys: 1min 35s, total: 2min 11s\n",
            "Wall time: 9min 8s\n"
          ]
        },
        {
          "output_type": "stream",
          "name": "stderr",
          "text": [
            "\n"
          ]
        },
        {
          "output_type": "execute_result",
          "data": {
            "text/plain": [
              "(1005, 126, 13, 1)"
            ]
          },
          "metadata": {},
          "execution_count": 19
        }
      ]
    },
    {
      "cell_type": "code",
      "source": [
        "%%time\n",
        "X_train = []\n",
        "train_labels_= []\n",
        "i = 0\n",
        "for x in tqdm(train_files):\n",
        "    signal,sr = load(x)\n",
        "    y = augment(signal)\n",
        "    for a in y:\n",
        "        X_train.append(extract_mfccs(a,sr))\n",
        "        train_labels_.append(train_labels[i])\n",
        "    i= i+1\n",
        "Xtrain = np.array(X_train)\n",
        "Xtrain.shape"
      ],
      "metadata": {
        "colab": {
          "base_uri": "https://localhost:8080/"
        },
        "id": "vUE940Ez9-BN",
        "outputId": "fa561863-2b3d-43f5-c48b-fe39c1316598"
      },
      "execution_count": null,
      "outputs": [
        {
          "output_type": "stream",
          "name": "stderr",
          "text": [
            "100%|██████████| 8127/8127 [1:25:51<00:00,  1.58it/s]\n"
          ]
        },
        {
          "output_type": "stream",
          "name": "stdout",
          "text": [
            "CPU times: user 15min 23s, sys: 16min 19s, total: 31min 43s\n",
            "Wall time: 1h 25min 51s\n"
          ]
        },
        {
          "output_type": "execute_result",
          "data": {
            "text/plain": [
              "(24381, 126, 13, 1)"
            ]
          },
          "metadata": {},
          "execution_count": 17
        }
      ]
    },
    {
      "cell_type": "code",
      "source": [
        "le.classes_"
      ],
      "metadata": {
        "colab": {
          "base_uri": "https://localhost:8080/"
        },
        "id": "mdOzPMiV_C8Q",
        "outputId": "d06947ef-0e93-450d-9599-d51d671500a8"
      },
      "execution_count": null,
      "outputs": [
        {
          "output_type": "execute_result",
          "data": {
            "text/plain": [
              "array(['alarm off', 'alarm on', 'camera off', 'camera on', 'door close',\n",
              "       'door open', 'fan decrease', 'fan increase', 'fan off', 'fan on',\n",
              "       'fridge off', 'fridge on', 'lights off', 'lights on',\n",
              "       'speaker decrease', 'speaker increase', 'speaker off',\n",
              "       'speaker on', 'tv off', 'tv on'], dtype='<U16')"
            ]
          },
          "metadata": {},
          "execution_count": 20
        }
      ]
    },
    {
      "cell_type": "code",
      "source": [
        "ytrain = le.transform(train_labels_)\n",
        "yval = le.transform(val_labels)\n",
        "ytrain.shape, yval.shape"
      ],
      "metadata": {
        "colab": {
          "base_uri": "https://localhost:8080/"
        },
        "id": "bbx6Mgru-Clq",
        "outputId": "f5b949c4-0aba-4e8e-f230-32f5d4bcc088"
      },
      "execution_count": null,
      "outputs": [
        {
          "output_type": "execute_result",
          "data": {
            "text/plain": [
              "((24381,), (1005,))"
            ]
          },
          "metadata": {},
          "execution_count": 21
        }
      ]
    },
    {
      "cell_type": "code",
      "source": [
        "len(ytrain)"
      ],
      "metadata": {
        "colab": {
          "base_uri": "https://localhost:8080/"
        },
        "id": "k2-wzvS0_fFl",
        "outputId": "0803d28b-d060-4601-ab15-1f0557578f26"
      },
      "execution_count": null,
      "outputs": [
        {
          "output_type": "execute_result",
          "data": {
            "text/plain": [
              "24381"
            ]
          },
          "metadata": {},
          "execution_count": 22
        }
      ]
    },
    {
      "cell_type": "code",
      "source": [
        "train_labels[:200]"
      ],
      "metadata": {
        "id": "LuLzd1E4QPP6",
        "colab": {
          "base_uri": "https://localhost:8080/"
        },
        "outputId": "df1c41b0-b033-432d-cc9b-af6c3d20b634"
      },
      "execution_count": null,
      "outputs": [
        {
          "output_type": "execute_result",
          "data": {
            "text/plain": [
              "['alarm on',\n",
              " 'tv off',\n",
              " 'camera on',\n",
              " 'alarm off',\n",
              " 'lights off',\n",
              " 'tv off',\n",
              " 'tv on',\n",
              " 'tv on',\n",
              " 'fridge on',\n",
              " 'speaker off',\n",
              " 'tv on',\n",
              " 'fan increase',\n",
              " 'camera on',\n",
              " 'tv on',\n",
              " 'fan on',\n",
              " 'speaker on',\n",
              " 'fridge on',\n",
              " 'door open',\n",
              " 'tv on',\n",
              " 'tv on',\n",
              " 'door close',\n",
              " 'camera off',\n",
              " 'door close',\n",
              " 'speaker increase',\n",
              " 'speaker on',\n",
              " 'tv off',\n",
              " 'door close',\n",
              " 'fan on',\n",
              " 'tv on',\n",
              " 'alarm off',\n",
              " 'alarm on',\n",
              " 'speaker decrease',\n",
              " 'speaker on',\n",
              " 'alarm on',\n",
              " 'fan increase',\n",
              " 'door open',\n",
              " 'fan on',\n",
              " 'fridge on',\n",
              " 'fridge on',\n",
              " 'alarm on',\n",
              " 'tv off',\n",
              " 'speaker on',\n",
              " 'door close',\n",
              " 'speaker on',\n",
              " 'speaker on',\n",
              " 'alarm on',\n",
              " 'fan off',\n",
              " 'alarm off',\n",
              " 'alarm off',\n",
              " 'speaker increase',\n",
              " 'fan off',\n",
              " 'speaker decrease',\n",
              " 'alarm off',\n",
              " 'speaker off',\n",
              " 'speaker on',\n",
              " 'tv on',\n",
              " 'alarm on',\n",
              " 'tv on',\n",
              " 'speaker increase',\n",
              " 'camera off',\n",
              " 'fridge on',\n",
              " 'speaker off',\n",
              " 'fridge off',\n",
              " 'speaker on',\n",
              " 'fridge off',\n",
              " 'speaker increase',\n",
              " 'fan decrease',\n",
              " 'fan on',\n",
              " 'camera off',\n",
              " 'speaker decrease',\n",
              " 'door close',\n",
              " 'fan increase',\n",
              " 'alarm on',\n",
              " 'speaker on',\n",
              " 'speaker off',\n",
              " 'fan on',\n",
              " 'camera on',\n",
              " 'speaker increase',\n",
              " 'speaker on',\n",
              " 'fridge on',\n",
              " 'lights on',\n",
              " 'speaker off',\n",
              " 'alarm on',\n",
              " 'tv on',\n",
              " 'fan on',\n",
              " 'fridge on',\n",
              " 'alarm on',\n",
              " 'door open',\n",
              " 'alarm on',\n",
              " 'fridge on',\n",
              " 'fridge on',\n",
              " 'speaker off',\n",
              " 'speaker increase',\n",
              " 'tv off',\n",
              " 'door close',\n",
              " 'tv off',\n",
              " 'speaker on',\n",
              " 'fridge on',\n",
              " 'lights on',\n",
              " 'camera off',\n",
              " 'fan decrease',\n",
              " 'tv off',\n",
              " 'tv on',\n",
              " 'lights off',\n",
              " 'speaker on',\n",
              " 'speaker off',\n",
              " 'fan decrease',\n",
              " 'tv off',\n",
              " 'fan on',\n",
              " 'door open',\n",
              " 'speaker decrease',\n",
              " 'fan on',\n",
              " 'speaker off',\n",
              " 'tv on',\n",
              " 'tv on',\n",
              " 'speaker on',\n",
              " 'tv off',\n",
              " 'lights off',\n",
              " 'lights on',\n",
              " 'fan off',\n",
              " 'fan off',\n",
              " 'fan decrease',\n",
              " 'speaker on',\n",
              " 'fridge on',\n",
              " 'fan decrease',\n",
              " 'tv on',\n",
              " 'lights off',\n",
              " 'fan decrease',\n",
              " 'lights off',\n",
              " 'fan increase',\n",
              " 'speaker increase',\n",
              " 'tv on',\n",
              " 'speaker on',\n",
              " 'camera on',\n",
              " 'tv on',\n",
              " 'tv on',\n",
              " 'door open',\n",
              " 'lights on',\n",
              " 'speaker decrease',\n",
              " 'fan decrease',\n",
              " 'lights on',\n",
              " 'speaker on',\n",
              " 'tv on',\n",
              " 'door close',\n",
              " 'speaker increase',\n",
              " 'camera off',\n",
              " 'fridge on',\n",
              " 'fan on',\n",
              " 'lights off',\n",
              " 'fan decrease',\n",
              " 'speaker decrease',\n",
              " 'lights on',\n",
              " 'camera off',\n",
              " 'speaker on',\n",
              " 'alarm on',\n",
              " 'tv on',\n",
              " 'camera on',\n",
              " 'fridge on',\n",
              " 'fridge on',\n",
              " 'fridge on',\n",
              " 'tv on',\n",
              " 'camera on',\n",
              " 'lights off',\n",
              " 'camera off',\n",
              " 'camera on',\n",
              " 'tv on',\n",
              " 'door open',\n",
              " 'speaker on',\n",
              " 'speaker on',\n",
              " 'fan on',\n",
              " 'fridge off',\n",
              " 'fan on',\n",
              " 'fridge on',\n",
              " 'speaker increase',\n",
              " 'speaker decrease',\n",
              " 'lights on',\n",
              " 'tv on',\n",
              " 'speaker decrease',\n",
              " 'tv off',\n",
              " 'fan decrease',\n",
              " 'fan off',\n",
              " 'alarm on',\n",
              " 'camera off',\n",
              " 'tv off',\n",
              " 'tv on',\n",
              " 'speaker decrease',\n",
              " 'fan on',\n",
              " 'speaker off',\n",
              " 'fridge on',\n",
              " 'speaker on',\n",
              " 'alarm on',\n",
              " 'alarm off',\n",
              " 'speaker increase',\n",
              " 'alarm off',\n",
              " 'fan off',\n",
              " 'alarm off',\n",
              " 'camera on',\n",
              " 'tv off',\n",
              " 'tv on',\n",
              " 'alarm off']"
            ]
          },
          "metadata": {},
          "execution_count": 23
        }
      ]
    },
    {
      "cell_type": "code",
      "source": [
        "ytrain[:300]"
      ],
      "metadata": {
        "id": "mcNdpWa0QAwb",
        "colab": {
          "base_uri": "https://localhost:8080/"
        },
        "outputId": "3494bddb-d1a6-4de2-b9d3-a26b4e4f747d"
      },
      "execution_count": null,
      "outputs": [
        {
          "output_type": "execute_result",
          "data": {
            "text/plain": [
              "array([ 1,  1,  1, 18, 18, 18,  3,  3,  3,  0,  0,  0, 12, 12, 12, 18, 18,\n",
              "       18, 19, 19, 19, 19, 19, 19, 11, 11, 11, 16, 16, 16, 19, 19, 19,  7,\n",
              "        7,  7,  3,  3,  3, 19, 19, 19,  9,  9,  9, 17, 17, 17, 11, 11, 11,\n",
              "        5,  5,  5, 19, 19, 19, 19, 19, 19,  4,  4,  4,  2,  2,  2,  4,  4,\n",
              "        4, 15, 15, 15, 17, 17, 17, 18, 18, 18,  4,  4,  4,  9,  9,  9, 19,\n",
              "       19, 19,  0,  0,  0,  1,  1,  1, 14, 14, 14, 17, 17, 17,  1,  1,  1,\n",
              "        7,  7,  7,  5,  5,  5,  9,  9,  9, 11, 11, 11, 11, 11, 11,  1,  1,\n",
              "        1, 18, 18, 18, 17, 17, 17,  4,  4,  4, 17, 17, 17, 17, 17, 17,  1,\n",
              "        1,  1,  8,  8,  8,  0,  0,  0,  0,  0,  0, 15, 15, 15,  8,  8,  8,\n",
              "       14, 14, 14,  0,  0,  0, 16, 16, 16, 17, 17, 17, 19, 19, 19,  1,  1,\n",
              "        1, 19, 19, 19, 15, 15, 15,  2,  2,  2, 11, 11, 11, 16, 16, 16, 10,\n",
              "       10, 10, 17, 17, 17, 10, 10, 10, 15, 15, 15,  6,  6,  6,  9,  9,  9,\n",
              "        2,  2,  2, 14, 14, 14,  4,  4,  4,  7,  7,  7,  1,  1,  1, 17, 17,\n",
              "       17, 16, 16, 16,  9,  9,  9,  3,  3,  3, 15, 15, 15, 17, 17, 17, 11,\n",
              "       11, 11, 13, 13, 13, 16, 16, 16,  1,  1,  1, 19, 19, 19,  9,  9,  9,\n",
              "       11, 11, 11,  1,  1,  1,  5,  5,  5,  1,  1,  1, 11, 11, 11, 11, 11,\n",
              "       11, 16, 16, 16, 15, 15, 15, 18, 18, 18,  4,  4,  4, 18, 18, 18, 17,\n",
              "       17, 17, 11, 11, 11, 13, 13, 13,  2,  2,  2])"
            ]
          },
          "metadata": {},
          "execution_count": 24
        }
      ]
    },
    {
      "cell_type": "markdown",
      "source": [
        "# save pickle file"
      ],
      "metadata": {
        "id": "KULoe-4HBUBQ"
      }
    },
    {
      "cell_type": "code",
      "source": [
        "data = {\n",
        "    'Xtrain': Xtrain,\n",
        "    'Xtest': Xtest,\n",
        "    'Xval': Xval,\n",
        "    'ytrain': ytrain,\n",
        "    'ytest': ytest,\n",
        "    'yval': yval\n",
        "}"
      ],
      "metadata": {
        "id": "rytwHGoX_1nS"
      },
      "execution_count": null,
      "outputs": []
    },
    {
      "cell_type": "code",
      "source": [
        "# Specify the path to save the pickle file\n",
        "pickle_path = 'data13.pkl'\n",
        "\n",
        "with open(pickle_path, 'wb') as file:\n",
        "    pickle.dump(data, file)"
      ],
      "metadata": {
        "id": "w0CGZUFGBKOH"
      },
      "execution_count": null,
      "outputs": []
    },
    {
      "cell_type": "code",
      "source": [
        "pickle_path = 'data13.pkl'\n",
        "\n",
        "with open(pickle_path, 'rb') as file:\n",
        "    data2 = pickle.load(file)\n",
        "\n",
        "Xtrain1 = data2['Xtrain']\n",
        "Xtest1 = data2['Xtest']\n",
        "Xval1 = data2['Xval']\n",
        "ytrain1 = data2['ytrain']\n",
        "ytest1 = data2['ytest']\n",
        "yval1 = data2['yval']\n",
        "\n",
        "Xtrain1.shape,Xtest1.shape"
      ],
      "metadata": {
        "colab": {
          "base_uri": "https://localhost:8080/"
        },
        "id": "q8euh4WhAnck",
        "outputId": "8b2544ff-84ba-4e74-c92f-4aa0b4a25807"
      },
      "execution_count": null,
      "outputs": [
        {
          "output_type": "execute_result",
          "data": {
            "text/plain": [
              "((24381, 126, 13, 1), (711, 126, 13, 1))"
            ]
          },
          "metadata": {},
          "execution_count": 27
        }
      ]
    }
  ]
}